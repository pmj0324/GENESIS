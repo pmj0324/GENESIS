{
  "cells": [
    {
      "cell_type": "markdown",
      "metadata": {},
      "source": [
        "# GENESIS: IceCube Muon Neutrino Event Diffusion Model Demo\n",
        "\n",
        "This notebook demonstrates how to use the GENESIS diffusion model for generating IceCube muon neutrino events.\n",
        "\n",
        "## Overview\n",
        "\n",
        "The GENESIS model uses a DiT (Diffusion Transformer) architecture to generate PMT (Photo-Multiplier Tube) signals from muon neutrino events. The model is conditioned on event-level properties like energy, direction, and position.\n",
        "\n",
        "## Features Demonstrated\n",
        "\n",
        "1. **Model Architecture**: Understanding the PMTDit model structure\n",
        "2. **Data Loading**: Loading IceCube neutrino event data\n",
        "3. **Training**: Training the diffusion model\n",
        "4. **Sampling**: Generating new neutrino events\n",
        "5. **Evaluation**: Comparing generated events with real data\n",
        "6. **Visualization**: Visualizing PMT signals and event properties\n"
      ]
    }
  ],
  "metadata": {
    "language_info": {
      "name": "python"
    }
  },
  "nbformat": 4,
  "nbformat_minor": 2
}
